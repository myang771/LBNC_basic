{
  "nbformat": 4,
  "nbformat_minor": 0,
  "metadata": {
    "colab": {
      "provenance": [],
      "collapsed_sections": [],
      "authorship_tag": "ABX9TyOKZ9n6U0fIXRU/1dW8483b",
      "include_colab_link": true
    },
    "kernelspec": {
      "name": "python3",
      "display_name": "Python 3"
    },
    "language_info": {
      "name": "python"
    }
  },
  "cells": [
    {
      "cell_type": "markdown",
      "metadata": {
        "id": "view-in-github",
        "colab_type": "text"
      },
      "source": [
        "<a href=\"https://colab.research.google.com/github/myang771/LBNC_basic/blob/main/test1.ipynb\" target=\"_parent\"><img src=\"https://colab.research.google.com/assets/colab-badge.svg\" alt=\"Open In Colab\"/></a>"
      ]
    },
    {
      "cell_type": "code",
      "execution_count": 1,
      "metadata": {
        "colab": {
          "base_uri": "https://localhost:8080/"
        },
        "id": "Qwa4LOsF7jCF",
        "outputId": "6d9776cd-62dc-4deb-baad-3c5d055bc2ef"
      },
      "outputs": [
        {
          "output_type": "stream",
          "name": "stdout",
          "text": [
            "2 2\n",
            "4 6\n",
            "6 12\n",
            "8 20\n",
            "10 30\n",
            "12 42\n",
            "14 56\n",
            "16 72\n",
            "18 90\n",
            "20 110\n",
            "22 132\n",
            "24 156\n",
            "26 182\n",
            "28 210\n",
            "30 240\n",
            "32 272\n",
            "34 306\n",
            "36 342\n",
            "38 380\n",
            "40 420\n",
            "42 462\n",
            "44 506\n",
            "46 552\n",
            "48 600\n",
            "50 650\n",
            "52 702\n",
            "54 756\n",
            "56 812\n",
            "58 870\n",
            "60 930\n",
            "62 992\n",
            "64 1056\n",
            "66 1122\n",
            "68 1190\n",
            "70 1260\n",
            "72 1332\n",
            "74 1406\n",
            "76 1482\n",
            "78 1560\n",
            "80 1640\n",
            "82 1722\n",
            "84 1806\n",
            "86 1892\n",
            "88 1980\n",
            "90 2070\n",
            "92 2162\n",
            "94 2256\n",
            "96 2352\n",
            "98 2450\n",
            "100 2550\n"
          ]
        }
      ],
      "source": [
        "a = 0\n",
        "total = 0\n",
        "while a <100:\n",
        "  a += 2\n",
        "  total += a\n",
        "  print(a, total)"
      ]
    },
    {
      "cell_type": "code",
      "source": [
        "a = 0\n",
        "total = 0\n",
        "while a <100:\n",
        "  if a % 2 == 0 :\n",
        "    a += 2\n",
        "    total += a\n",
        "    print(a, total)"
      ],
      "metadata": {
        "colab": {
          "base_uri": "https://localhost:8080/"
        },
        "id": "JJi9-thjDPDp",
        "outputId": "c8c00be7-18dc-4260-fded-9a6a10e19aa4"
      },
      "execution_count": 5,
      "outputs": [
        {
          "output_type": "stream",
          "name": "stdout",
          "text": [
            "2 2\n",
            "4 6\n",
            "6 12\n",
            "8 20\n",
            "10 30\n",
            "12 42\n",
            "14 56\n",
            "16 72\n",
            "18 90\n",
            "20 110\n",
            "22 132\n",
            "24 156\n",
            "26 182\n",
            "28 210\n",
            "30 240\n",
            "32 272\n",
            "34 306\n",
            "36 342\n",
            "38 380\n",
            "40 420\n",
            "42 462\n",
            "44 506\n",
            "46 552\n",
            "48 600\n",
            "50 650\n",
            "52 702\n",
            "54 756\n",
            "56 812\n",
            "58 870\n",
            "60 930\n",
            "62 992\n",
            "64 1056\n",
            "66 1122\n",
            "68 1190\n",
            "70 1260\n",
            "72 1332\n",
            "74 1406\n",
            "76 1482\n",
            "78 1560\n",
            "80 1640\n",
            "82 1722\n",
            "84 1806\n",
            "86 1892\n",
            "88 1980\n",
            "90 2070\n",
            "92 2162\n",
            "94 2256\n",
            "96 2352\n",
            "98 2450\n",
            "100 2550\n"
          ]
        }
      ]
    },
    {
      "cell_type": "code",
      "source": [
        "a = 0\n",
        "total = 0\n",
        "while a < 100:\n",
        "  a += 1                    #a=1부터 시작\n",
        "  if a % 2 == 1: continue   #아래 코드를 실행하지 않고 건너뜀\n",
        "  total += a\n",
        "  print(a,total)\n",
        "  "
      ],
      "metadata": {
        "colab": {
          "base_uri": "https://localhost:8080/"
        },
        "id": "VQ2g2ubLGrdt",
        "outputId": "9461c13c-ac18-4706-ca41-6d0affdb5102"
      },
      "execution_count": 6,
      "outputs": [
        {
          "output_type": "stream",
          "name": "stdout",
          "text": [
            "2 2\n",
            "4 6\n",
            "6 12\n",
            "8 20\n",
            "10 30\n",
            "12 42\n",
            "14 56\n",
            "16 72\n",
            "18 90\n",
            "20 110\n",
            "22 132\n",
            "24 156\n",
            "26 182\n",
            "28 210\n",
            "30 240\n",
            "32 272\n",
            "34 306\n",
            "36 342\n",
            "38 380\n",
            "40 420\n",
            "42 462\n",
            "44 506\n",
            "46 552\n",
            "48 600\n",
            "50 650\n",
            "52 702\n",
            "54 756\n",
            "56 812\n",
            "58 870\n",
            "60 930\n",
            "62 992\n",
            "64 1056\n",
            "66 1122\n",
            "68 1190\n",
            "70 1260\n",
            "72 1332\n",
            "74 1406\n",
            "76 1482\n",
            "78 1560\n",
            "80 1640\n",
            "82 1722\n",
            "84 1806\n",
            "86 1892\n",
            "88 1980\n",
            "90 2070\n",
            "92 2162\n",
            "94 2256\n",
            "96 2352\n",
            "98 2450\n",
            "100 2550\n"
          ]
        }
      ]
    },
    {
      "cell_type": "markdown",
      "source": [
        "#<strong> 문제 1 </strong>  \n",
        "0부터 100까지의 짝수를 합산하여 다음과 같이 함수 print를 이용하여 화면에 출력하라  \n",
        "![image.png](data:image/png;base64,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)"
      ],
      "metadata": {
        "id": "o81_YPqP8jii"
      }
    },
    {
      "cell_type": "markdown",
      "source": [
        "1. 첫 칸은 a 두번째 칸은 현재 a와 두번째 a의 합 -> 첫 칸, 두번째 칸의 값을 저장하는 변수를 달리 해야 함 (a와 total)\n",
        "2. a가 어떻게 변하고 있는지 (짝수인 경우만 or a += 2)\n",
        "3. total+= a -> total = total + a\n",
        "4. for문인지 while문인지? (for: 문자열, 리스트, 튜플 지정 / while: 조건문 True, False) -> while  \n",
        "5. print 함수가 어디에 작성되어야 하는지 (for문이 끝나고, for문과 같은 위치에 print를 쓰면 가장 마지막 출력값만 print됨)\n",
        "![image.png](data:image/png;base64,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)"
      ],
      "metadata": {
        "id": "LptZR-9I-X6r"
      }
    },
    {
      "cell_type": "code",
      "source": [
        "a = ['cat', 'tiger', 'elephant'] \n",
        "for x in a :\n",
        "  if len(x) > 3:\n",
        "    print(x)"
      ],
      "metadata": {
        "colab": {
          "base_uri": "https://localhost:8080/"
        },
        "id": "JEH-JA26LTJ0",
        "outputId": "3988b33d-b3ae-419c-999a-23c3909f0017"
      },
      "execution_count": 7,
      "outputs": [
        {
          "output_type": "stream",
          "name": "stdout",
          "text": [
            "tiger\n",
            "elephant\n"
          ]
        }
      ]
    },
    {
      "cell_type": "markdown",
      "source": [
        "#<strong>문제2</strong>\n",
        "a = ['cat', 'tiger', 'elephant']  \n",
        "변수명 a의 원소 중 문자열 길이가 3보다 큰 문자열만 함수 print를 이용하여 화면에 출력하라"
      ],
      "metadata": {
        "id": "cjEtjoRAKIjm"
      }
    },
    {
      "cell_type": "markdown",
      "source": [
        "1. 문자열 길이가 3보다 큰 것만 출력 -> 필터링 기능 필요 / 하나씩 비교하면서 -> for문 필요!\n",
        "2. len() > 3\n",
        "3. a의 원소 각각을 비교하기 위해 새로운 변수 필요 : x"
      ],
      "metadata": {
        "id": "6bgZHTxZK5He"
      }
    },
    {
      "cell_type": "code",
      "source": [
        "a = 0\n",
        "total = 0\n",
        "while a < 30:\n",
        "  if 9 <= a >= 20: break\n",
        "  a += 1\n",
        "  total += a\n",
        "  print(a, total)"
      ],
      "metadata": {
        "colab": {
          "base_uri": "https://localhost:8080/"
        },
        "id": "M6cR0jThM3jQ",
        "outputId": "43b2ab47-bcd0-4586-fec7-5076c3b1e394"
      },
      "execution_count": 9,
      "outputs": [
        {
          "output_type": "stream",
          "name": "stdout",
          "text": [
            "1 1\n",
            "2 3\n",
            "3 6\n",
            "4 10\n",
            "5 15\n",
            "6 21\n",
            "7 28\n",
            "8 36\n",
            "9 45\n",
            "10 55\n",
            "11 66\n",
            "12 78\n",
            "13 91\n",
            "14 105\n",
            "15 120\n",
            "16 136\n",
            "17 153\n",
            "18 171\n",
            "19 190\n",
            "20 210\n"
          ]
        }
      ]
    },
    {
      "cell_type": "markdown",
      "source": [
        "#<strong>문제3</strong>\n",
        "0부터 10까지 더하고 다시 21부터 30까지 더하여 반복 루프마다 함수 print를 이용하여 화면에 출력하라  \n",
        "![image.png](data:image/png;base64,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)"
      ],
      "metadata": {
        "id": "hRP37zEANNsO"
      }
    },
    {
      "cell_type": "markdown",
      "source": [
        "1. a, total 변수 선언\n",
        "2. a 하나씩 숫자가 높아짐 (9까지 / 10에서 break)\n",
        "3. total += a"
      ],
      "metadata": {
        "id": "X5y1_mkmOPI7"
      }
    }
  ]
}